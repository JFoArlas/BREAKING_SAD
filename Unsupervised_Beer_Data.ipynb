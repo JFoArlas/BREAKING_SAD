{
 "cells": [
  {
   "cell_type": "code",
   "execution_count": null,
   "id": "8b2db575",
   "metadata": {},
   "outputs": [],
   "source": [
    "import pandas as pd\n",
    "import plotly.express as px\n",
    "import hvplot.pandas\n",
    "\n",
    "from sklearn.preprocessing import StandardScaler, MinMaxScaler\n",
    "from sklearn.decomposition import PCA\n",
    "from sklearn.cluster import KMeans"
   ]
  },
  {
   "cell_type": "code",
   "execution_count": null,
   "id": "47b41b28",
   "metadata": {},
   "outputs": [],
   "source": [
    "#load in beer dataset \n",
    "file_path = \"../Resources/BeerProject.csv\"\n",
    "beer_df = pd.read_csv(file_path, encoding='unicode_escape')\n",
    "\n",
    "beer_df.head()"
   ]
  },
  {
   "cell_type": "markdown",
   "id": "e56fd67e",
   "metadata": {},
   "source": [
    "### 1. Process Data For Unsupervised Machine Learning\n",
    "\n",
    "For data processing, the focus is on making sure the data is set up for the unsupervised learning model, which requires the following:\n",
    "\n",
    "1. Null values are handled.\n",
    "\n",
    "2. Only numerical data is used.\n",
    "\n",
    "2. Values are scaled. In other words, data has been manipulated to ensure that the variance between the numbers won't skew results."
   ]
  },
  {
   "cell_type": "code",
   "execution_count": null,
   "id": "3ef2187e",
   "metadata": {},
   "outputs": [],
   "source": [
    "# 1. Assign beer_style column to another variable for later\n",
    "beer_style = beer_df.beer_style\n",
    "print(beer_style.shape)\n",
    "beer_style.head()"
   ]
  },
  {
   "cell_type": "code",
   "execution_count": null,
   "id": "88919070",
   "metadata": {},
   "outputs": [],
   "source": [
    "# 2. Drop columns we dont need:\n",
    "beer_df.drop(columns=[\"beer_beerId\", \"beer_brewerId\", \"beer_name\", \"beer_style\", \"review_profileName\", \"review_text\", \"review_time\"], inplace=True)\n",
    "beer_df.head()\n"
   ]
  },
  {
   "cell_type": "code",
   "execution_count": null,
   "id": "9d8d19f1",
   "metadata": {},
   "outputs": [],
   "source": [
    "# 3. Drop rows with na values\n",
    "beer_df = beer_df.dropna()"
   ]
  },
  {
   "cell_type": "code",
   "execution_count": null,
   "id": "04506c33",
   "metadata": {},
   "outputs": [],
   "source": [
    "# 4. Check that all variables are numeric/float\n",
    "beer_df.dtypes"
   ]
  },
  {
   "cell_type": "code",
   "execution_count": null,
   "id": "7bfbf5d6",
   "metadata": {},
   "outputs": [],
   "source": [
    "# 5. Standardise the data\n",
    "beer_scaled = StandardScaler().fit_transform(beer_df)"
   ]
  },
  {
   "cell_type": "markdown",
   "id": "a2b1ee97",
   "metadata": {},
   "source": [
    "### 2. Reducing Data Dimensions Using PCA"
   ]
  },
  {
   "cell_type": "code",
   "execution_count": null,
   "id": "3016a61f",
   "metadata": {},
   "outputs": [],
   "source": [
    "# Using PCA to reduce dimension to three principal components.\n",
    "# Initialize PCA model\n",
    "pca = PCA(n_components=3)\n",
    "# Get two principal components for the crypto_scaled data.\n",
    "beer_pca = pca.fit_transform(beer_scaled)"
   ]
  },
  {
   "cell_type": "code",
   "execution_count": null,
   "id": "af681ccc",
   "metadata": {},
   "outputs": [],
   "source": [
    "# Create a DataFrame with the three principal components.\n",
    "pcs_df = pd.DataFrame(data=beer_pca, columns=[\"PC 1\", \"PC 2\", \"PC 3\"], index = beer_df.index)\n",
    "pcs_df.head()"
   ]
  },
  {
   "cell_type": "markdown",
   "id": "1813dc09",
   "metadata": {},
   "source": [
    "### 2. Clustering Beer Using K-Means\n",
    "\n",
    "#### Finding the Best Value for `k` Using the Elbow Curve"
   ]
  },
  {
   "cell_type": "code",
   "execution_count": null,
   "id": "acdc99fe",
   "metadata": {},
   "outputs": [],
   "source": [
    "# Create an elbow curve to find the best value for K.\n",
    "\n",
    "inertia = []\n",
    "k = list(range(1, 100))\n",
    "\n",
    "# Calculate the inertia for the range of K values\n",
    "for i in k:\n",
    "    km = KMeans(n_clusters=i, random_state=0)\n",
    "    km.fit(pcs_df)\n",
    "    inertia.append(km.inertia_)\n",
    "\n",
    "# Create the elbow curve\n",
    "elbow_data = {\"k\": k, \"inertia\": inertia}\n",
    "df_elbow = pd.DataFrame(elbow_data)\n",
    "df_elbow.hvplot.line(x=\"k\", y=\"inertia\", xticks=k, title=\"Elbow Curve\")"
   ]
  },
  {
   "cell_type": "markdown",
   "id": "de3e2244",
   "metadata": {},
   "source": [
    "Use the elbow curve to find the number of clusters to use:\n",
    "    \n",
    "    k = x\n",
    "    n_clusters = x"
   ]
  },
  {
   "cell_type": "code",
   "execution_count": null,
   "id": "506d45b1",
   "metadata": {},
   "outputs": [],
   "source": [
    "# Initialize the K-Means model.\n",
    "model = KMeans(n_clusters=4, random_state=0)\n",
    "\n",
    "# Fit the model\n",
    "model.fit(pcs_df)\n",
    "\n",
    "# Predict clusters\n",
    "predictions = model.predict(pcs_df)\n",
    "predictions.head()"
   ]
  },
  {
   "cell_type": "code",
   "execution_count": null,
   "id": "6cbffe54",
   "metadata": {},
   "outputs": [],
   "source": [
    "# Create a new DataFrame including predicted clusters and cryptocurrencies features.\n",
    "# Concatentate the crypto_df and pcs_df DataFrames on the same columns.\n",
    "clustered_df = pd.concat([beer_df, pcs_df], axis=1, join='inner')\n",
    "\n",
    "#  Add a new column, \"beer_type\" to the clustered_df DataFrame that holds the names of the Beers. \n",
    "clustered_df[\"beer_type\"] = crypto_names_df.CoinName\n",
    "\n",
    "#  Add a new column, \"Class\" to the clustered_df DataFrame that holds the predictions.\n",
    "clustered_df[\"Class\"] = model.labels_\n",
    "\n",
    "# Print the shape of the clustered_df\n",
    "print(clustered_df.shape)\n",
    "clustered_df.head(10)\n"
   ]
  },
  {
   "cell_type": "markdown",
   "id": "896f00d7",
   "metadata": {},
   "source": [
    "## Visualize the Data"
   ]
  },
  {
   "cell_type": "code",
   "execution_count": null,
   "id": "6916fc98",
   "metadata": {},
   "outputs": [],
   "source": [
    "# Creating a 3D-Scatter with the PCA data and the clusters \n",
    "        # - this may not make sense if we have loads of clusters\n",
    "fig = px.scatter_3d(\n",
    "    clustered_df,\n",
    "    x=\"PC 1\",\n",
    "    y=\"PC 2\",\n",
    "    z=\"PC 3\",\n",
    "    color=\"Class\",\n",
    "    symbol=\"Class\",\n",
    "    width=800,\n",
    "    hover_name=\"beer_type\",\n",
    ")\n",
    "fig.update_layout(legend=dict(x=0, y=1))\n",
    "fig.show()"
   ]
  },
  {
   "cell_type": "code",
   "execution_count": null,
   "id": "a5d9d779",
   "metadata": {},
   "outputs": [],
   "source": []
  }
 ],
 "metadata": {
  "kernelspec": {
   "display_name": "mlenv",
   "language": "python",
   "name": "mlenv"
  },
  "language_info": {
   "codemirror_mode": {
    "name": "ipython",
    "version": 3
   },
   "file_extension": ".py",
   "mimetype": "text/x-python",
   "name": "python",
   "nbconvert_exporter": "python",
   "pygments_lexer": "ipython3",
   "version": "3.7.11"
  }
 },
 "nbformat": 4,
 "nbformat_minor": 5
}
